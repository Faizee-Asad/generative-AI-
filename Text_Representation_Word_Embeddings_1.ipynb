{
  "nbformat": 4,
  "nbformat_minor": 0,
  "metadata": {
    "colab": {
      "provenance": []
    },
    "kernelspec": {
      "name": "python3",
      "display_name": "Python 3"
    },
    "language_info": {
      "name": "python"
    }
  },
  "cells": [
    {
      "cell_type": "markdown",
      "source": [
        "### Some common terms to remember:\n",
        "\n",
        "* Corpus\n",
        "* Vocabulary\n",
        "* Document\n",
        "* Word"
      ],
      "metadata": {
        "id": "yG1CNV2OtrvX"
      }
    },
    {
      "cell_type": "markdown",
      "source": [
        "# Bag of words"
      ],
      "metadata": {
        "id": "BLrgXKXMuBJR"
      }
    },
    {
      "cell_type": "code",
      "source": [
        "import numpy as np\n",
        "import pandas as pd"
      ],
      "metadata": {
        "id": "7IpOYtDltq-k"
      },
      "execution_count": 1,
      "outputs": []
    },
    {
      "cell_type": "code",
      "source": [
        "df = pd.DataFrame({\"text\":[\"people watch dswithbappy\",\n",
        "                         \"dswithbappy watch dswithbappy\",\n",
        "                         \"people write comment\",\n",
        "                          \"dswithbappy write comment\"],\"output\":[1,1,0,0]})\n",
        "\n",
        "df"
      ],
      "metadata": {
        "colab": {
          "base_uri": "https://localhost:8080/",
          "height": 175
        },
        "id": "lA2T04JHtq7N",
        "outputId": "ef029709-fe19-41cc-e564-77de224f1b30"
      },
      "execution_count": 2,
      "outputs": [
        {
          "output_type": "execute_result",
          "data": {
            "text/plain": [
              "                            text  output\n",
              "0       people watch dswithbappy       1\n",
              "1  dswithbappy watch dswithbappy       1\n",
              "2           people write comment       0\n",
              "3      dswithbappy write comment       0"
            ],
            "text/html": [
              "\n",
              "  <div id=\"df-5fe5b0c5-4c42-47ef-bbe0-2f16a708e9fb\" class=\"colab-df-container\">\n",
              "    <div>\n",
              "<style scoped>\n",
              "    .dataframe tbody tr th:only-of-type {\n",
              "        vertical-align: middle;\n",
              "    }\n",
              "\n",
              "    .dataframe tbody tr th {\n",
              "        vertical-align: top;\n",
              "    }\n",
              "\n",
              "    .dataframe thead th {\n",
              "        text-align: right;\n",
              "    }\n",
              "</style>\n",
              "<table border=\"1\" class=\"dataframe\">\n",
              "  <thead>\n",
              "    <tr style=\"text-align: right;\">\n",
              "      <th></th>\n",
              "      <th>text</th>\n",
              "      <th>output</th>\n",
              "    </tr>\n",
              "  </thead>\n",
              "  <tbody>\n",
              "    <tr>\n",
              "      <th>0</th>\n",
              "      <td>people watch dswithbappy</td>\n",
              "      <td>1</td>\n",
              "    </tr>\n",
              "    <tr>\n",
              "      <th>1</th>\n",
              "      <td>dswithbappy watch dswithbappy</td>\n",
              "      <td>1</td>\n",
              "    </tr>\n",
              "    <tr>\n",
              "      <th>2</th>\n",
              "      <td>people write comment</td>\n",
              "      <td>0</td>\n",
              "    </tr>\n",
              "    <tr>\n",
              "      <th>3</th>\n",
              "      <td>dswithbappy write comment</td>\n",
              "      <td>0</td>\n",
              "    </tr>\n",
              "  </tbody>\n",
              "</table>\n",
              "</div>\n",
              "    <div class=\"colab-df-buttons\">\n",
              "\n",
              "  <div class=\"colab-df-container\">\n",
              "    <button class=\"colab-df-convert\" onclick=\"convertToInteractive('df-5fe5b0c5-4c42-47ef-bbe0-2f16a708e9fb')\"\n",
              "            title=\"Convert this dataframe to an interactive table.\"\n",
              "            style=\"display:none;\">\n",
              "\n",
              "  <svg xmlns=\"http://www.w3.org/2000/svg\" height=\"24px\" viewBox=\"0 -960 960 960\">\n",
              "    <path d=\"M120-120v-720h720v720H120Zm60-500h600v-160H180v160Zm220 220h160v-160H400v160Zm0 220h160v-160H400v160ZM180-400h160v-160H180v160Zm440 0h160v-160H620v160ZM180-180h160v-160H180v160Zm440 0h160v-160H620v160Z\"/>\n",
              "  </svg>\n",
              "    </button>\n",
              "\n",
              "  <style>\n",
              "    .colab-df-container {\n",
              "      display:flex;\n",
              "      gap: 12px;\n",
              "    }\n",
              "\n",
              "    .colab-df-convert {\n",
              "      background-color: #E8F0FE;\n",
              "      border: none;\n",
              "      border-radius: 50%;\n",
              "      cursor: pointer;\n",
              "      display: none;\n",
              "      fill: #1967D2;\n",
              "      height: 32px;\n",
              "      padding: 0 0 0 0;\n",
              "      width: 32px;\n",
              "    }\n",
              "\n",
              "    .colab-df-convert:hover {\n",
              "      background-color: #E2EBFA;\n",
              "      box-shadow: 0px 1px 2px rgba(60, 64, 67, 0.3), 0px 1px 3px 1px rgba(60, 64, 67, 0.15);\n",
              "      fill: #174EA6;\n",
              "    }\n",
              "\n",
              "    .colab-df-buttons div {\n",
              "      margin-bottom: 4px;\n",
              "    }\n",
              "\n",
              "    [theme=dark] .colab-df-convert {\n",
              "      background-color: #3B4455;\n",
              "      fill: #D2E3FC;\n",
              "    }\n",
              "\n",
              "    [theme=dark] .colab-df-convert:hover {\n",
              "      background-color: #434B5C;\n",
              "      box-shadow: 0px 1px 3px 1px rgba(0, 0, 0, 0.15);\n",
              "      filter: drop-shadow(0px 1px 2px rgba(0, 0, 0, 0.3));\n",
              "      fill: #FFFFFF;\n",
              "    }\n",
              "  </style>\n",
              "\n",
              "    <script>\n",
              "      const buttonEl =\n",
              "        document.querySelector('#df-5fe5b0c5-4c42-47ef-bbe0-2f16a708e9fb button.colab-df-convert');\n",
              "      buttonEl.style.display =\n",
              "        google.colab.kernel.accessAllowed ? 'block' : 'none';\n",
              "\n",
              "      async function convertToInteractive(key) {\n",
              "        const element = document.querySelector('#df-5fe5b0c5-4c42-47ef-bbe0-2f16a708e9fb');\n",
              "        const dataTable =\n",
              "          await google.colab.kernel.invokeFunction('convertToInteractive',\n",
              "                                                    [key], {});\n",
              "        if (!dataTable) return;\n",
              "\n",
              "        const docLinkHtml = 'Like what you see? Visit the ' +\n",
              "          '<a target=\"_blank\" href=https://colab.research.google.com/notebooks/data_table.ipynb>data table notebook</a>'\n",
              "          + ' to learn more about interactive tables.';\n",
              "        element.innerHTML = '';\n",
              "        dataTable['output_type'] = 'display_data';\n",
              "        await google.colab.output.renderOutput(dataTable, element);\n",
              "        const docLink = document.createElement('div');\n",
              "        docLink.innerHTML = docLinkHtml;\n",
              "        element.appendChild(docLink);\n",
              "      }\n",
              "    </script>\n",
              "  </div>\n",
              "\n",
              "\n",
              "    <div id=\"df-95b6fa00-4f31-402d-a6db-1009ac12ff4c\">\n",
              "      <button class=\"colab-df-quickchart\" onclick=\"quickchart('df-95b6fa00-4f31-402d-a6db-1009ac12ff4c')\"\n",
              "                title=\"Suggest charts\"\n",
              "                style=\"display:none;\">\n",
              "\n",
              "<svg xmlns=\"http://www.w3.org/2000/svg\" height=\"24px\"viewBox=\"0 0 24 24\"\n",
              "     width=\"24px\">\n",
              "    <g>\n",
              "        <path d=\"M19 3H5c-1.1 0-2 .9-2 2v14c0 1.1.9 2 2 2h14c1.1 0 2-.9 2-2V5c0-1.1-.9-2-2-2zM9 17H7v-7h2v7zm4 0h-2V7h2v10zm4 0h-2v-4h2v4z\"/>\n",
              "    </g>\n",
              "</svg>\n",
              "      </button>\n",
              "\n",
              "<style>\n",
              "  .colab-df-quickchart {\n",
              "      --bg-color: #E8F0FE;\n",
              "      --fill-color: #1967D2;\n",
              "      --hover-bg-color: #E2EBFA;\n",
              "      --hover-fill-color: #174EA6;\n",
              "      --disabled-fill-color: #AAA;\n",
              "      --disabled-bg-color: #DDD;\n",
              "  }\n",
              "\n",
              "  [theme=dark] .colab-df-quickchart {\n",
              "      --bg-color: #3B4455;\n",
              "      --fill-color: #D2E3FC;\n",
              "      --hover-bg-color: #434B5C;\n",
              "      --hover-fill-color: #FFFFFF;\n",
              "      --disabled-bg-color: #3B4455;\n",
              "      --disabled-fill-color: #666;\n",
              "  }\n",
              "\n",
              "  .colab-df-quickchart {\n",
              "    background-color: var(--bg-color);\n",
              "    border: none;\n",
              "    border-radius: 50%;\n",
              "    cursor: pointer;\n",
              "    display: none;\n",
              "    fill: var(--fill-color);\n",
              "    height: 32px;\n",
              "    padding: 0;\n",
              "    width: 32px;\n",
              "  }\n",
              "\n",
              "  .colab-df-quickchart:hover {\n",
              "    background-color: var(--hover-bg-color);\n",
              "    box-shadow: 0 1px 2px rgba(60, 64, 67, 0.3), 0 1px 3px 1px rgba(60, 64, 67, 0.15);\n",
              "    fill: var(--button-hover-fill-color);\n",
              "  }\n",
              "\n",
              "  .colab-df-quickchart-complete:disabled,\n",
              "  .colab-df-quickchart-complete:disabled:hover {\n",
              "    background-color: var(--disabled-bg-color);\n",
              "    fill: var(--disabled-fill-color);\n",
              "    box-shadow: none;\n",
              "  }\n",
              "\n",
              "  .colab-df-spinner {\n",
              "    border: 2px solid var(--fill-color);\n",
              "    border-color: transparent;\n",
              "    border-bottom-color: var(--fill-color);\n",
              "    animation:\n",
              "      spin 1s steps(1) infinite;\n",
              "  }\n",
              "\n",
              "  @keyframes spin {\n",
              "    0% {\n",
              "      border-color: transparent;\n",
              "      border-bottom-color: var(--fill-color);\n",
              "      border-left-color: var(--fill-color);\n",
              "    }\n",
              "    20% {\n",
              "      border-color: transparent;\n",
              "      border-left-color: var(--fill-color);\n",
              "      border-top-color: var(--fill-color);\n",
              "    }\n",
              "    30% {\n",
              "      border-color: transparent;\n",
              "      border-left-color: var(--fill-color);\n",
              "      border-top-color: var(--fill-color);\n",
              "      border-right-color: var(--fill-color);\n",
              "    }\n",
              "    40% {\n",
              "      border-color: transparent;\n",
              "      border-right-color: var(--fill-color);\n",
              "      border-top-color: var(--fill-color);\n",
              "    }\n",
              "    60% {\n",
              "      border-color: transparent;\n",
              "      border-right-color: var(--fill-color);\n",
              "    }\n",
              "    80% {\n",
              "      border-color: transparent;\n",
              "      border-right-color: var(--fill-color);\n",
              "      border-bottom-color: var(--fill-color);\n",
              "    }\n",
              "    90% {\n",
              "      border-color: transparent;\n",
              "      border-bottom-color: var(--fill-color);\n",
              "    }\n",
              "  }\n",
              "</style>\n",
              "\n",
              "      <script>\n",
              "        async function quickchart(key) {\n",
              "          const quickchartButtonEl =\n",
              "            document.querySelector('#' + key + ' button');\n",
              "          quickchartButtonEl.disabled = true;  // To prevent multiple clicks.\n",
              "          quickchartButtonEl.classList.add('colab-df-spinner');\n",
              "          try {\n",
              "            const charts = await google.colab.kernel.invokeFunction(\n",
              "                'suggestCharts', [key], {});\n",
              "          } catch (error) {\n",
              "            console.error('Error during call to suggestCharts:', error);\n",
              "          }\n",
              "          quickchartButtonEl.classList.remove('colab-df-spinner');\n",
              "          quickchartButtonEl.classList.add('colab-df-quickchart-complete');\n",
              "        }\n",
              "        (() => {\n",
              "          let quickchartButtonEl =\n",
              "            document.querySelector('#df-95b6fa00-4f31-402d-a6db-1009ac12ff4c button');\n",
              "          quickchartButtonEl.style.display =\n",
              "            google.colab.kernel.accessAllowed ? 'block' : 'none';\n",
              "        })();\n",
              "      </script>\n",
              "    </div>\n",
              "\n",
              "  <div id=\"id_eb7d87da-70d4-4321-84d1-e8157bc9b14f\">\n",
              "    <style>\n",
              "      .colab-df-generate {\n",
              "        background-color: #E8F0FE;\n",
              "        border: none;\n",
              "        border-radius: 50%;\n",
              "        cursor: pointer;\n",
              "        display: none;\n",
              "        fill: #1967D2;\n",
              "        height: 32px;\n",
              "        padding: 0 0 0 0;\n",
              "        width: 32px;\n",
              "      }\n",
              "\n",
              "      .colab-df-generate:hover {\n",
              "        background-color: #E2EBFA;\n",
              "        box-shadow: 0px 1px 2px rgba(60, 64, 67, 0.3), 0px 1px 3px 1px rgba(60, 64, 67, 0.15);\n",
              "        fill: #174EA6;\n",
              "      }\n",
              "\n",
              "      [theme=dark] .colab-df-generate {\n",
              "        background-color: #3B4455;\n",
              "        fill: #D2E3FC;\n",
              "      }\n",
              "\n",
              "      [theme=dark] .colab-df-generate:hover {\n",
              "        background-color: #434B5C;\n",
              "        box-shadow: 0px 1px 3px 1px rgba(0, 0, 0, 0.15);\n",
              "        filter: drop-shadow(0px 1px 2px rgba(0, 0, 0, 0.3));\n",
              "        fill: #FFFFFF;\n",
              "      }\n",
              "    </style>\n",
              "    <button class=\"colab-df-generate\" onclick=\"generateWithVariable('df')\"\n",
              "            title=\"Generate code using this dataframe.\"\n",
              "            style=\"display:none;\">\n",
              "\n",
              "  <svg xmlns=\"http://www.w3.org/2000/svg\" height=\"24px\"viewBox=\"0 0 24 24\"\n",
              "       width=\"24px\">\n",
              "    <path d=\"M7,19H8.4L18.45,9,17,7.55,7,17.6ZM5,21V16.75L18.45,3.32a2,2,0,0,1,2.83,0l1.4,1.43a1.91,1.91,0,0,1,.58,1.4,1.91,1.91,0,0,1-.58,1.4L9.25,21ZM18.45,9,17,7.55Zm-12,3A5.31,5.31,0,0,0,4.9,8.1,5.31,5.31,0,0,0,1,6.5,5.31,5.31,0,0,0,4.9,4.9,5.31,5.31,0,0,0,6.5,1,5.31,5.31,0,0,0,8.1,4.9,5.31,5.31,0,0,0,12,6.5,5.46,5.46,0,0,0,6.5,12Z\"/>\n",
              "  </svg>\n",
              "    </button>\n",
              "    <script>\n",
              "      (() => {\n",
              "      const buttonEl =\n",
              "        document.querySelector('#id_eb7d87da-70d4-4321-84d1-e8157bc9b14f button.colab-df-generate');\n",
              "      buttonEl.style.display =\n",
              "        google.colab.kernel.accessAllowed ? 'block' : 'none';\n",
              "\n",
              "      buttonEl.onclick = () => {\n",
              "        google.colab.notebook.generateWithVariable('df');\n",
              "      }\n",
              "      })();\n",
              "    </script>\n",
              "  </div>\n",
              "\n",
              "    </div>\n",
              "  </div>\n"
            ],
            "application/vnd.google.colaboratory.intrinsic+json": {
              "type": "dataframe",
              "variable_name": "df",
              "summary": "{\n  \"name\": \"df\",\n  \"rows\": 4,\n  \"fields\": [\n    {\n      \"column\": \"text\",\n      \"properties\": {\n        \"dtype\": \"string\",\n        \"num_unique_values\": 4,\n        \"samples\": [\n          \"dswithbappy watch dswithbappy\",\n          \"dswithbappy write comment\",\n          \"people watch dswithbappy\"\n        ],\n        \"semantic_type\": \"\",\n        \"description\": \"\"\n      }\n    },\n    {\n      \"column\": \"output\",\n      \"properties\": {\n        \"dtype\": \"number\",\n        \"std\": 0,\n        \"min\": 0,\n        \"max\": 1,\n        \"num_unique_values\": 2,\n        \"samples\": [\n          0,\n          1\n        ],\n        \"semantic_type\": \"\",\n        \"description\": \"\"\n      }\n    }\n  ]\n}"
            }
          },
          "metadata": {},
          "execution_count": 2
        }
      ]
    },
    {
      "cell_type": "code",
      "execution_count": 4,
      "metadata": {
        "id": "ZLzFxF1ItiiM"
      },
      "outputs": [],
      "source": [
        "from sklearn.feature_extraction.text import CountVectorizer\n",
        "cv = CountVectorizer()"
      ]
    },
    {
      "cell_type": "code",
      "source": [
        "bow = cv.fit_transform(df['text'])"
      ],
      "metadata": {
        "id": "33nFVIJ6uPqu"
      },
      "execution_count": 5,
      "outputs": []
    },
    {
      "cell_type": "code",
      "source": [
        "#vocabulary\n",
        "print(cv.vocabulary_)"
      ],
      "metadata": {
        "colab": {
          "base_uri": "https://localhost:8080/"
        },
        "id": "Meal2v0euVDa",
        "outputId": "eed15de7-4f27-4c1b-ce79-fd2e292345b8"
      },
      "execution_count": 7,
      "outputs": [
        {
          "output_type": "stream",
          "name": "stdout",
          "text": [
            "{'people': 2, 'watch': 3, 'dswithbappy': 1, 'write': 4, 'comment': 0}\n"
          ]
        }
      ]
    },
    {
      "cell_type": "code",
      "source": [
        "bow.toarray()"
      ],
      "metadata": {
        "colab": {
          "base_uri": "https://localhost:8080/"
        },
        "id": "GJ03mR36untR",
        "outputId": "7d3fdb27-d62b-4cd5-a957-0ee3be5168fc"
      },
      "execution_count": 8,
      "outputs": [
        {
          "output_type": "execute_result",
          "data": {
            "text/plain": [
              "array([[0, 1, 1, 1, 0],\n",
              "       [0, 2, 0, 1, 0],\n",
              "       [1, 0, 1, 0, 1],\n",
              "       [1, 1, 0, 0, 1]])"
            ]
          },
          "metadata": {},
          "execution_count": 8
        }
      ]
    },
    {
      "cell_type": "code",
      "source": [
        "print(bow[0].toarray())\n",
        "print(bow[1].toarray())\n",
        "print(bow[2].toarray())"
      ],
      "metadata": {
        "colab": {
          "base_uri": "https://localhost:8080/"
        },
        "id": "mn6ezz6SuqDJ",
        "outputId": "849cabcd-5648-4e0c-86f8-7da6e032a292"
      },
      "execution_count": 9,
      "outputs": [
        {
          "output_type": "stream",
          "name": "stdout",
          "text": [
            "[[0 1 1 1 0]]\n",
            "[[0 2 0 1 0]]\n",
            "[[1 0 1 0 1]]\n"
          ]
        }
      ]
    },
    {
      "cell_type": "code",
      "source": [
        "# new\n",
        "cv.transform(['Bappy watch dswithbappy']).toarray()"
      ],
      "metadata": {
        "colab": {
          "base_uri": "https://localhost:8080/"
        },
        "id": "O5-JIBbzur-I",
        "outputId": "c6b7c1cd-9872-4754-c6ff-7aa50c304c65"
      },
      "execution_count": 10,
      "outputs": [
        {
          "output_type": "execute_result",
          "data": {
            "text/plain": [
              "array([[0, 1, 0, 1, 0]])"
            ]
          },
          "metadata": {},
          "execution_count": 10
        }
      ]
    },
    {
      "cell_type": "code",
      "source": [
        "X = bow.toarray()\n",
        "y = df['output']"
      ],
      "metadata": {
        "id": "PX0wr-wKuuk1"
      },
      "execution_count": 11,
      "outputs": []
    },
    {
      "cell_type": "markdown",
      "source": [
        "# N-grams"
      ],
      "metadata": {
        "id": "a5sYdPIiuzl5"
      }
    },
    {
      "cell_type": "code",
      "source": [
        "df = pd.DataFrame({\"text\":[\"people watch dswithbappy\",\n",
        "                         \"dswithbappy watch dswithbappy\",\n",
        "                         \"people write comment\",\n",
        "                          \"dswithbappy write comment\"],\"output\":[1,1,0,0]})\n",
        "\n",
        "df"
      ],
      "metadata": {
        "colab": {
          "base_uri": "https://localhost:8080/",
          "height": 175
        },
        "id": "nQgY66aVuwob",
        "outputId": "c40ac5d6-6823-456c-d6ff-ca0db9b7a750"
      },
      "execution_count": 12,
      "outputs": [
        {
          "output_type": "execute_result",
          "data": {
            "text/plain": [
              "                            text  output\n",
              "0       people watch dswithbappy       1\n",
              "1  dswithbappy watch dswithbappy       1\n",
              "2           people write comment       0\n",
              "3      dswithbappy write comment       0"
            ],
            "text/html": [
              "\n",
              "  <div id=\"df-1d9cf8a2-863a-4caa-a7b7-95a2b12673b3\" class=\"colab-df-container\">\n",
              "    <div>\n",
              "<style scoped>\n",
              "    .dataframe tbody tr th:only-of-type {\n",
              "        vertical-align: middle;\n",
              "    }\n",
              "\n",
              "    .dataframe tbody tr th {\n",
              "        vertical-align: top;\n",
              "    }\n",
              "\n",
              "    .dataframe thead th {\n",
              "        text-align: right;\n",
              "    }\n",
              "</style>\n",
              "<table border=\"1\" class=\"dataframe\">\n",
              "  <thead>\n",
              "    <tr style=\"text-align: right;\">\n",
              "      <th></th>\n",
              "      <th>text</th>\n",
              "      <th>output</th>\n",
              "    </tr>\n",
              "  </thead>\n",
              "  <tbody>\n",
              "    <tr>\n",
              "      <th>0</th>\n",
              "      <td>people watch dswithbappy</td>\n",
              "      <td>1</td>\n",
              "    </tr>\n",
              "    <tr>\n",
              "      <th>1</th>\n",
              "      <td>dswithbappy watch dswithbappy</td>\n",
              "      <td>1</td>\n",
              "    </tr>\n",
              "    <tr>\n",
              "      <th>2</th>\n",
              "      <td>people write comment</td>\n",
              "      <td>0</td>\n",
              "    </tr>\n",
              "    <tr>\n",
              "      <th>3</th>\n",
              "      <td>dswithbappy write comment</td>\n",
              "      <td>0</td>\n",
              "    </tr>\n",
              "  </tbody>\n",
              "</table>\n",
              "</div>\n",
              "    <div class=\"colab-df-buttons\">\n",
              "\n",
              "  <div class=\"colab-df-container\">\n",
              "    <button class=\"colab-df-convert\" onclick=\"convertToInteractive('df-1d9cf8a2-863a-4caa-a7b7-95a2b12673b3')\"\n",
              "            title=\"Convert this dataframe to an interactive table.\"\n",
              "            style=\"display:none;\">\n",
              "\n",
              "  <svg xmlns=\"http://www.w3.org/2000/svg\" height=\"24px\" viewBox=\"0 -960 960 960\">\n",
              "    <path d=\"M120-120v-720h720v720H120Zm60-500h600v-160H180v160Zm220 220h160v-160H400v160Zm0 220h160v-160H400v160ZM180-400h160v-160H180v160Zm440 0h160v-160H620v160ZM180-180h160v-160H180v160Zm440 0h160v-160H620v160Z\"/>\n",
              "  </svg>\n",
              "    </button>\n",
              "\n",
              "  <style>\n",
              "    .colab-df-container {\n",
              "      display:flex;\n",
              "      gap: 12px;\n",
              "    }\n",
              "\n",
              "    .colab-df-convert {\n",
              "      background-color: #E8F0FE;\n",
              "      border: none;\n",
              "      border-radius: 50%;\n",
              "      cursor: pointer;\n",
              "      display: none;\n",
              "      fill: #1967D2;\n",
              "      height: 32px;\n",
              "      padding: 0 0 0 0;\n",
              "      width: 32px;\n",
              "    }\n",
              "\n",
              "    .colab-df-convert:hover {\n",
              "      background-color: #E2EBFA;\n",
              "      box-shadow: 0px 1px 2px rgba(60, 64, 67, 0.3), 0px 1px 3px 1px rgba(60, 64, 67, 0.15);\n",
              "      fill: #174EA6;\n",
              "    }\n",
              "\n",
              "    .colab-df-buttons div {\n",
              "      margin-bottom: 4px;\n",
              "    }\n",
              "\n",
              "    [theme=dark] .colab-df-convert {\n",
              "      background-color: #3B4455;\n",
              "      fill: #D2E3FC;\n",
              "    }\n",
              "\n",
              "    [theme=dark] .colab-df-convert:hover {\n",
              "      background-color: #434B5C;\n",
              "      box-shadow: 0px 1px 3px 1px rgba(0, 0, 0, 0.15);\n",
              "      filter: drop-shadow(0px 1px 2px rgba(0, 0, 0, 0.3));\n",
              "      fill: #FFFFFF;\n",
              "    }\n",
              "  </style>\n",
              "\n",
              "    <script>\n",
              "      const buttonEl =\n",
              "        document.querySelector('#df-1d9cf8a2-863a-4caa-a7b7-95a2b12673b3 button.colab-df-convert');\n",
              "      buttonEl.style.display =\n",
              "        google.colab.kernel.accessAllowed ? 'block' : 'none';\n",
              "\n",
              "      async function convertToInteractive(key) {\n",
              "        const element = document.querySelector('#df-1d9cf8a2-863a-4caa-a7b7-95a2b12673b3');\n",
              "        const dataTable =\n",
              "          await google.colab.kernel.invokeFunction('convertToInteractive',\n",
              "                                                    [key], {});\n",
              "        if (!dataTable) return;\n",
              "\n",
              "        const docLinkHtml = 'Like what you see? Visit the ' +\n",
              "          '<a target=\"_blank\" href=https://colab.research.google.com/notebooks/data_table.ipynb>data table notebook</a>'\n",
              "          + ' to learn more about interactive tables.';\n",
              "        element.innerHTML = '';\n",
              "        dataTable['output_type'] = 'display_data';\n",
              "        await google.colab.output.renderOutput(dataTable, element);\n",
              "        const docLink = document.createElement('div');\n",
              "        docLink.innerHTML = docLinkHtml;\n",
              "        element.appendChild(docLink);\n",
              "      }\n",
              "    </script>\n",
              "  </div>\n",
              "\n",
              "\n",
              "    <div id=\"df-2e74f1fd-2734-4ddc-ac63-56d4dca7cb49\">\n",
              "      <button class=\"colab-df-quickchart\" onclick=\"quickchart('df-2e74f1fd-2734-4ddc-ac63-56d4dca7cb49')\"\n",
              "                title=\"Suggest charts\"\n",
              "                style=\"display:none;\">\n",
              "\n",
              "<svg xmlns=\"http://www.w3.org/2000/svg\" height=\"24px\"viewBox=\"0 0 24 24\"\n",
              "     width=\"24px\">\n",
              "    <g>\n",
              "        <path d=\"M19 3H5c-1.1 0-2 .9-2 2v14c0 1.1.9 2 2 2h14c1.1 0 2-.9 2-2V5c0-1.1-.9-2-2-2zM9 17H7v-7h2v7zm4 0h-2V7h2v10zm4 0h-2v-4h2v4z\"/>\n",
              "    </g>\n",
              "</svg>\n",
              "      </button>\n",
              "\n",
              "<style>\n",
              "  .colab-df-quickchart {\n",
              "      --bg-color: #E8F0FE;\n",
              "      --fill-color: #1967D2;\n",
              "      --hover-bg-color: #E2EBFA;\n",
              "      --hover-fill-color: #174EA6;\n",
              "      --disabled-fill-color: #AAA;\n",
              "      --disabled-bg-color: #DDD;\n",
              "  }\n",
              "\n",
              "  [theme=dark] .colab-df-quickchart {\n",
              "      --bg-color: #3B4455;\n",
              "      --fill-color: #D2E3FC;\n",
              "      --hover-bg-color: #434B5C;\n",
              "      --hover-fill-color: #FFFFFF;\n",
              "      --disabled-bg-color: #3B4455;\n",
              "      --disabled-fill-color: #666;\n",
              "  }\n",
              "\n",
              "  .colab-df-quickchart {\n",
              "    background-color: var(--bg-color);\n",
              "    border: none;\n",
              "    border-radius: 50%;\n",
              "    cursor: pointer;\n",
              "    display: none;\n",
              "    fill: var(--fill-color);\n",
              "    height: 32px;\n",
              "    padding: 0;\n",
              "    width: 32px;\n",
              "  }\n",
              "\n",
              "  .colab-df-quickchart:hover {\n",
              "    background-color: var(--hover-bg-color);\n",
              "    box-shadow: 0 1px 2px rgba(60, 64, 67, 0.3), 0 1px 3px 1px rgba(60, 64, 67, 0.15);\n",
              "    fill: var(--button-hover-fill-color);\n",
              "  }\n",
              "\n",
              "  .colab-df-quickchart-complete:disabled,\n",
              "  .colab-df-quickchart-complete:disabled:hover {\n",
              "    background-color: var(--disabled-bg-color);\n",
              "    fill: var(--disabled-fill-color);\n",
              "    box-shadow: none;\n",
              "  }\n",
              "\n",
              "  .colab-df-spinner {\n",
              "    border: 2px solid var(--fill-color);\n",
              "    border-color: transparent;\n",
              "    border-bottom-color: var(--fill-color);\n",
              "    animation:\n",
              "      spin 1s steps(1) infinite;\n",
              "  }\n",
              "\n",
              "  @keyframes spin {\n",
              "    0% {\n",
              "      border-color: transparent;\n",
              "      border-bottom-color: var(--fill-color);\n",
              "      border-left-color: var(--fill-color);\n",
              "    }\n",
              "    20% {\n",
              "      border-color: transparent;\n",
              "      border-left-color: var(--fill-color);\n",
              "      border-top-color: var(--fill-color);\n",
              "    }\n",
              "    30% {\n",
              "      border-color: transparent;\n",
              "      border-left-color: var(--fill-color);\n",
              "      border-top-color: var(--fill-color);\n",
              "      border-right-color: var(--fill-color);\n",
              "    }\n",
              "    40% {\n",
              "      border-color: transparent;\n",
              "      border-right-color: var(--fill-color);\n",
              "      border-top-color: var(--fill-color);\n",
              "    }\n",
              "    60% {\n",
              "      border-color: transparent;\n",
              "      border-right-color: var(--fill-color);\n",
              "    }\n",
              "    80% {\n",
              "      border-color: transparent;\n",
              "      border-right-color: var(--fill-color);\n",
              "      border-bottom-color: var(--fill-color);\n",
              "    }\n",
              "    90% {\n",
              "      border-color: transparent;\n",
              "      border-bottom-color: var(--fill-color);\n",
              "    }\n",
              "  }\n",
              "</style>\n",
              "\n",
              "      <script>\n",
              "        async function quickchart(key) {\n",
              "          const quickchartButtonEl =\n",
              "            document.querySelector('#' + key + ' button');\n",
              "          quickchartButtonEl.disabled = true;  // To prevent multiple clicks.\n",
              "          quickchartButtonEl.classList.add('colab-df-spinner');\n",
              "          try {\n",
              "            const charts = await google.colab.kernel.invokeFunction(\n",
              "                'suggestCharts', [key], {});\n",
              "          } catch (error) {\n",
              "            console.error('Error during call to suggestCharts:', error);\n",
              "          }\n",
              "          quickchartButtonEl.classList.remove('colab-df-spinner');\n",
              "          quickchartButtonEl.classList.add('colab-df-quickchart-complete');\n",
              "        }\n",
              "        (() => {\n",
              "          let quickchartButtonEl =\n",
              "            document.querySelector('#df-2e74f1fd-2734-4ddc-ac63-56d4dca7cb49 button');\n",
              "          quickchartButtonEl.style.display =\n",
              "            google.colab.kernel.accessAllowed ? 'block' : 'none';\n",
              "        })();\n",
              "      </script>\n",
              "    </div>\n",
              "\n",
              "  <div id=\"id_26029eca-04c0-492e-96c8-32f13413abcf\">\n",
              "    <style>\n",
              "      .colab-df-generate {\n",
              "        background-color: #E8F0FE;\n",
              "        border: none;\n",
              "        border-radius: 50%;\n",
              "        cursor: pointer;\n",
              "        display: none;\n",
              "        fill: #1967D2;\n",
              "        height: 32px;\n",
              "        padding: 0 0 0 0;\n",
              "        width: 32px;\n",
              "      }\n",
              "\n",
              "      .colab-df-generate:hover {\n",
              "        background-color: #E2EBFA;\n",
              "        box-shadow: 0px 1px 2px rgba(60, 64, 67, 0.3), 0px 1px 3px 1px rgba(60, 64, 67, 0.15);\n",
              "        fill: #174EA6;\n",
              "      }\n",
              "\n",
              "      [theme=dark] .colab-df-generate {\n",
              "        background-color: #3B4455;\n",
              "        fill: #D2E3FC;\n",
              "      }\n",
              "\n",
              "      [theme=dark] .colab-df-generate:hover {\n",
              "        background-color: #434B5C;\n",
              "        box-shadow: 0px 1px 3px 1px rgba(0, 0, 0, 0.15);\n",
              "        filter: drop-shadow(0px 1px 2px rgba(0, 0, 0, 0.3));\n",
              "        fill: #FFFFFF;\n",
              "      }\n",
              "    </style>\n",
              "    <button class=\"colab-df-generate\" onclick=\"generateWithVariable('df')\"\n",
              "            title=\"Generate code using this dataframe.\"\n",
              "            style=\"display:none;\">\n",
              "\n",
              "  <svg xmlns=\"http://www.w3.org/2000/svg\" height=\"24px\"viewBox=\"0 0 24 24\"\n",
              "       width=\"24px\">\n",
              "    <path d=\"M7,19H8.4L18.45,9,17,7.55,7,17.6ZM5,21V16.75L18.45,3.32a2,2,0,0,1,2.83,0l1.4,1.43a1.91,1.91,0,0,1,.58,1.4,1.91,1.91,0,0,1-.58,1.4L9.25,21ZM18.45,9,17,7.55Zm-12,3A5.31,5.31,0,0,0,4.9,8.1,5.31,5.31,0,0,0,1,6.5,5.31,5.31,0,0,0,4.9,4.9,5.31,5.31,0,0,0,6.5,1,5.31,5.31,0,0,0,8.1,4.9,5.31,5.31,0,0,0,12,6.5,5.46,5.46,0,0,0,6.5,12Z\"/>\n",
              "  </svg>\n",
              "    </button>\n",
              "    <script>\n",
              "      (() => {\n",
              "      const buttonEl =\n",
              "        document.querySelector('#id_26029eca-04c0-492e-96c8-32f13413abcf button.colab-df-generate');\n",
              "      buttonEl.style.display =\n",
              "        google.colab.kernel.accessAllowed ? 'block' : 'none';\n",
              "\n",
              "      buttonEl.onclick = () => {\n",
              "        google.colab.notebook.generateWithVariable('df');\n",
              "      }\n",
              "      })();\n",
              "    </script>\n",
              "  </div>\n",
              "\n",
              "    </div>\n",
              "  </div>\n"
            ],
            "application/vnd.google.colaboratory.intrinsic+json": {
              "type": "dataframe",
              "variable_name": "df",
              "summary": "{\n  \"name\": \"df\",\n  \"rows\": 4,\n  \"fields\": [\n    {\n      \"column\": \"text\",\n      \"properties\": {\n        \"dtype\": \"string\",\n        \"num_unique_values\": 4,\n        \"samples\": [\n          \"dswithbappy watch dswithbappy\",\n          \"dswithbappy write comment\",\n          \"people watch dswithbappy\"\n        ],\n        \"semantic_type\": \"\",\n        \"description\": \"\"\n      }\n    },\n    {\n      \"column\": \"output\",\n      \"properties\": {\n        \"dtype\": \"number\",\n        \"std\": 0,\n        \"min\": 0,\n        \"max\": 1,\n        \"num_unique_values\": 2,\n        \"samples\": [\n          0,\n          1\n        ],\n        \"semantic_type\": \"\",\n        \"description\": \"\"\n      }\n    }\n  ]\n}"
            }
          },
          "metadata": {},
          "execution_count": 12
        }
      ]
    },
    {
      "cell_type": "code",
      "source": [
        "# BI grams\n",
        "from sklearn.feature_extraction.text import CountVectorizer\n",
        "cv = CountVectorizer(ngram_range=(2,2))"
      ],
      "metadata": {
        "id": "ZwIUXOS0u2k_"
      },
      "execution_count": 13,
      "outputs": []
    },
    {
      "cell_type": "code",
      "source": [
        "bow = cv.fit_transform(df['text'])"
      ],
      "metadata": {
        "id": "Y1Ozja_Qu5NJ"
      },
      "execution_count": 14,
      "outputs": []
    },
    {
      "cell_type": "code",
      "source": [
        "print(cv.vocabulary_)"
      ],
      "metadata": {
        "colab": {
          "base_uri": "https://localhost:8080/"
        },
        "id": "P5Q6cv4uu6zk",
        "outputId": "747143ae-33c7-457d-f19c-d322abe04297"
      },
      "execution_count": 15,
      "outputs": [
        {
          "output_type": "stream",
          "name": "stdout",
          "text": [
            "{'people watch': 2, 'watch dswithbappy': 4, 'dswithbappy watch': 0, 'people write': 3, 'write comment': 5, 'dswithbappy write': 1}\n"
          ]
        }
      ]
    },
    {
      "cell_type": "code",
      "source": [
        "print(bow[0].toarray())\n",
        "print(bow[1].toarray())\n",
        "print(bow[2].toarray())"
      ],
      "metadata": {
        "colab": {
          "base_uri": "https://localhost:8080/"
        },
        "id": "nz38xT2Tu8qX",
        "outputId": "bb3de4e2-7df4-4ed0-f22b-e3fb16cfa748"
      },
      "execution_count": 16,
      "outputs": [
        {
          "output_type": "stream",
          "name": "stdout",
          "text": [
            "[[0 0 1 0 1 0]]\n",
            "[[1 0 0 0 1 0]]\n",
            "[[0 0 0 1 0 1]]\n"
          ]
        }
      ]
    },
    {
      "cell_type": "code",
      "source": [
        "#Ti gram\n",
        "# BI grams\n",
        "from sklearn.feature_extraction.text import CountVectorizer\n",
        "cv = CountVectorizer(ngram_range=(3,3))"
      ],
      "metadata": {
        "id": "Lj5bcbyCu_HO"
      },
      "execution_count": 17,
      "outputs": []
    },
    {
      "cell_type": "code",
      "source": [
        "bow = cv.fit_transform(df['text'])"
      ],
      "metadata": {
        "id": "1ddNVZn3vBik"
      },
      "execution_count": 18,
      "outputs": []
    },
    {
      "cell_type": "code",
      "source": [
        "print(cv.vocabulary_)"
      ],
      "metadata": {
        "colab": {
          "base_uri": "https://localhost:8080/"
        },
        "id": "Eh3wOi92vDSu",
        "outputId": "d4cb2b3f-e5c9-4be9-950a-0998f1963c19"
      },
      "execution_count": 19,
      "outputs": [
        {
          "output_type": "stream",
          "name": "stdout",
          "text": [
            "{'people watch dswithbappy': 2, 'dswithbappy watch dswithbappy': 0, 'people write comment': 3, 'dswithbappy write comment': 1}\n"
          ]
        }
      ]
    },
    {
      "cell_type": "code",
      "source": [
        "print(bow[0].toarray())\n",
        "print(bow[1].toarray())\n",
        "print(bow[2].toarray())"
      ],
      "metadata": {
        "colab": {
          "base_uri": "https://localhost:8080/"
        },
        "id": "7REQoeVuvFKV",
        "outputId": "b7d6b618-027d-4eb5-8088-cd98a3259035"
      },
      "execution_count": 20,
      "outputs": [
        {
          "output_type": "stream",
          "name": "stdout",
          "text": [
            "[[0 0 1 0]]\n",
            "[[1 0 0 0]]\n",
            "[[0 0 0 1]]\n"
          ]
        }
      ]
    },
    {
      "cell_type": "markdown",
      "source": [
        "# TF-IDF (Term frequency- Inverse document frequency)\n"
      ],
      "metadata": {
        "id": "aWCLHjjBvJy7"
      }
    },
    {
      "cell_type": "markdown",
      "source": [
        "![TF-IDF.jpg](data:image/jpeg;base64,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)"
      ],
      "metadata": {
        "id": "s3QykII5v1v3"
      }
    },
    {
      "cell_type": "code",
      "source": [
        "df = pd.DataFrame({\"text\":[\"people watch dswithbappy\",\n",
        "                         \"dswithbappy watch dswithbappy\",\n",
        "                         \"people write comment\",\n",
        "                          \"dswithbappy write comment\"],\"output\":[1,1,0,0]})\n",
        "\n",
        "df"
      ],
      "metadata": {
        "colab": {
          "base_uri": "https://localhost:8080/",
          "height": 175
        },
        "id": "ZAlZp0YJvHWH",
        "outputId": "fdcf70d3-062f-4203-dbe1-7e7a0170ec7d"
      },
      "execution_count": 21,
      "outputs": [
        {
          "output_type": "execute_result",
          "data": {
            "text/plain": [
              "                            text  output\n",
              "0       people watch dswithbappy       1\n",
              "1  dswithbappy watch dswithbappy       1\n",
              "2           people write comment       0\n",
              "3      dswithbappy write comment       0"
            ],
            "text/html": [
              "\n",
              "  <div id=\"df-ee7cbb84-61ef-400c-ac77-ae9a3376da21\" class=\"colab-df-container\">\n",
              "    <div>\n",
              "<style scoped>\n",
              "    .dataframe tbody tr th:only-of-type {\n",
              "        vertical-align: middle;\n",
              "    }\n",
              "\n",
              "    .dataframe tbody tr th {\n",
              "        vertical-align: top;\n",
              "    }\n",
              "\n",
              "    .dataframe thead th {\n",
              "        text-align: right;\n",
              "    }\n",
              "</style>\n",
              "<table border=\"1\" class=\"dataframe\">\n",
              "  <thead>\n",
              "    <tr style=\"text-align: right;\">\n",
              "      <th></th>\n",
              "      <th>text</th>\n",
              "      <th>output</th>\n",
              "    </tr>\n",
              "  </thead>\n",
              "  <tbody>\n",
              "    <tr>\n",
              "      <th>0</th>\n",
              "      <td>people watch dswithbappy</td>\n",
              "      <td>1</td>\n",
              "    </tr>\n",
              "    <tr>\n",
              "      <th>1</th>\n",
              "      <td>dswithbappy watch dswithbappy</td>\n",
              "      <td>1</td>\n",
              "    </tr>\n",
              "    <tr>\n",
              "      <th>2</th>\n",
              "      <td>people write comment</td>\n",
              "      <td>0</td>\n",
              "    </tr>\n",
              "    <tr>\n",
              "      <th>3</th>\n",
              "      <td>dswithbappy write comment</td>\n",
              "      <td>0</td>\n",
              "    </tr>\n",
              "  </tbody>\n",
              "</table>\n",
              "</div>\n",
              "    <div class=\"colab-df-buttons\">\n",
              "\n",
              "  <div class=\"colab-df-container\">\n",
              "    <button class=\"colab-df-convert\" onclick=\"convertToInteractive('df-ee7cbb84-61ef-400c-ac77-ae9a3376da21')\"\n",
              "            title=\"Convert this dataframe to an interactive table.\"\n",
              "            style=\"display:none;\">\n",
              "\n",
              "  <svg xmlns=\"http://www.w3.org/2000/svg\" height=\"24px\" viewBox=\"0 -960 960 960\">\n",
              "    <path d=\"M120-120v-720h720v720H120Zm60-500h600v-160H180v160Zm220 220h160v-160H400v160Zm0 220h160v-160H400v160ZM180-400h160v-160H180v160Zm440 0h160v-160H620v160ZM180-180h160v-160H180v160Zm440 0h160v-160H620v160Z\"/>\n",
              "  </svg>\n",
              "    </button>\n",
              "\n",
              "  <style>\n",
              "    .colab-df-container {\n",
              "      display:flex;\n",
              "      gap: 12px;\n",
              "    }\n",
              "\n",
              "    .colab-df-convert {\n",
              "      background-color: #E8F0FE;\n",
              "      border: none;\n",
              "      border-radius: 50%;\n",
              "      cursor: pointer;\n",
              "      display: none;\n",
              "      fill: #1967D2;\n",
              "      height: 32px;\n",
              "      padding: 0 0 0 0;\n",
              "      width: 32px;\n",
              "    }\n",
              "\n",
              "    .colab-df-convert:hover {\n",
              "      background-color: #E2EBFA;\n",
              "      box-shadow: 0px 1px 2px rgba(60, 64, 67, 0.3), 0px 1px 3px 1px rgba(60, 64, 67, 0.15);\n",
              "      fill: #174EA6;\n",
              "    }\n",
              "\n",
              "    .colab-df-buttons div {\n",
              "      margin-bottom: 4px;\n",
              "    }\n",
              "\n",
              "    [theme=dark] .colab-df-convert {\n",
              "      background-color: #3B4455;\n",
              "      fill: #D2E3FC;\n",
              "    }\n",
              "\n",
              "    [theme=dark] .colab-df-convert:hover {\n",
              "      background-color: #434B5C;\n",
              "      box-shadow: 0px 1px 3px 1px rgba(0, 0, 0, 0.15);\n",
              "      filter: drop-shadow(0px 1px 2px rgba(0, 0, 0, 0.3));\n",
              "      fill: #FFFFFF;\n",
              "    }\n",
              "  </style>\n",
              "\n",
              "    <script>\n",
              "      const buttonEl =\n",
              "        document.querySelector('#df-ee7cbb84-61ef-400c-ac77-ae9a3376da21 button.colab-df-convert');\n",
              "      buttonEl.style.display =\n",
              "        google.colab.kernel.accessAllowed ? 'block' : 'none';\n",
              "\n",
              "      async function convertToInteractive(key) {\n",
              "        const element = document.querySelector('#df-ee7cbb84-61ef-400c-ac77-ae9a3376da21');\n",
              "        const dataTable =\n",
              "          await google.colab.kernel.invokeFunction('convertToInteractive',\n",
              "                                                    [key], {});\n",
              "        if (!dataTable) return;\n",
              "\n",
              "        const docLinkHtml = 'Like what you see? Visit the ' +\n",
              "          '<a target=\"_blank\" href=https://colab.research.google.com/notebooks/data_table.ipynb>data table notebook</a>'\n",
              "          + ' to learn more about interactive tables.';\n",
              "        element.innerHTML = '';\n",
              "        dataTable['output_type'] = 'display_data';\n",
              "        await google.colab.output.renderOutput(dataTable, element);\n",
              "        const docLink = document.createElement('div');\n",
              "        docLink.innerHTML = docLinkHtml;\n",
              "        element.appendChild(docLink);\n",
              "      }\n",
              "    </script>\n",
              "  </div>\n",
              "\n",
              "\n",
              "    <div id=\"df-1b27feb7-9f79-4e13-b993-23548c1eaf88\">\n",
              "      <button class=\"colab-df-quickchart\" onclick=\"quickchart('df-1b27feb7-9f79-4e13-b993-23548c1eaf88')\"\n",
              "                title=\"Suggest charts\"\n",
              "                style=\"display:none;\">\n",
              "\n",
              "<svg xmlns=\"http://www.w3.org/2000/svg\" height=\"24px\"viewBox=\"0 0 24 24\"\n",
              "     width=\"24px\">\n",
              "    <g>\n",
              "        <path d=\"M19 3H5c-1.1 0-2 .9-2 2v14c0 1.1.9 2 2 2h14c1.1 0 2-.9 2-2V5c0-1.1-.9-2-2-2zM9 17H7v-7h2v7zm4 0h-2V7h2v10zm4 0h-2v-4h2v4z\"/>\n",
              "    </g>\n",
              "</svg>\n",
              "      </button>\n",
              "\n",
              "<style>\n",
              "  .colab-df-quickchart {\n",
              "      --bg-color: #E8F0FE;\n",
              "      --fill-color: #1967D2;\n",
              "      --hover-bg-color: #E2EBFA;\n",
              "      --hover-fill-color: #174EA6;\n",
              "      --disabled-fill-color: #AAA;\n",
              "      --disabled-bg-color: #DDD;\n",
              "  }\n",
              "\n",
              "  [theme=dark] .colab-df-quickchart {\n",
              "      --bg-color: #3B4455;\n",
              "      --fill-color: #D2E3FC;\n",
              "      --hover-bg-color: #434B5C;\n",
              "      --hover-fill-color: #FFFFFF;\n",
              "      --disabled-bg-color: #3B4455;\n",
              "      --disabled-fill-color: #666;\n",
              "  }\n",
              "\n",
              "  .colab-df-quickchart {\n",
              "    background-color: var(--bg-color);\n",
              "    border: none;\n",
              "    border-radius: 50%;\n",
              "    cursor: pointer;\n",
              "    display: none;\n",
              "    fill: var(--fill-color);\n",
              "    height: 32px;\n",
              "    padding: 0;\n",
              "    width: 32px;\n",
              "  }\n",
              "\n",
              "  .colab-df-quickchart:hover {\n",
              "    background-color: var(--hover-bg-color);\n",
              "    box-shadow: 0 1px 2px rgba(60, 64, 67, 0.3), 0 1px 3px 1px rgba(60, 64, 67, 0.15);\n",
              "    fill: var(--button-hover-fill-color);\n",
              "  }\n",
              "\n",
              "  .colab-df-quickchart-complete:disabled,\n",
              "  .colab-df-quickchart-complete:disabled:hover {\n",
              "    background-color: var(--disabled-bg-color);\n",
              "    fill: var(--disabled-fill-color);\n",
              "    box-shadow: none;\n",
              "  }\n",
              "\n",
              "  .colab-df-spinner {\n",
              "    border: 2px solid var(--fill-color);\n",
              "    border-color: transparent;\n",
              "    border-bottom-color: var(--fill-color);\n",
              "    animation:\n",
              "      spin 1s steps(1) infinite;\n",
              "  }\n",
              "\n",
              "  @keyframes spin {\n",
              "    0% {\n",
              "      border-color: transparent;\n",
              "      border-bottom-color: var(--fill-color);\n",
              "      border-left-color: var(--fill-color);\n",
              "    }\n",
              "    20% {\n",
              "      border-color: transparent;\n",
              "      border-left-color: var(--fill-color);\n",
              "      border-top-color: var(--fill-color);\n",
              "    }\n",
              "    30% {\n",
              "      border-color: transparent;\n",
              "      border-left-color: var(--fill-color);\n",
              "      border-top-color: var(--fill-color);\n",
              "      border-right-color: var(--fill-color);\n",
              "    }\n",
              "    40% {\n",
              "      border-color: transparent;\n",
              "      border-right-color: var(--fill-color);\n",
              "      border-top-color: var(--fill-color);\n",
              "    }\n",
              "    60% {\n",
              "      border-color: transparent;\n",
              "      border-right-color: var(--fill-color);\n",
              "    }\n",
              "    80% {\n",
              "      border-color: transparent;\n",
              "      border-right-color: var(--fill-color);\n",
              "      border-bottom-color: var(--fill-color);\n",
              "    }\n",
              "    90% {\n",
              "      border-color: transparent;\n",
              "      border-bottom-color: var(--fill-color);\n",
              "    }\n",
              "  }\n",
              "</style>\n",
              "\n",
              "      <script>\n",
              "        async function quickchart(key) {\n",
              "          const quickchartButtonEl =\n",
              "            document.querySelector('#' + key + ' button');\n",
              "          quickchartButtonEl.disabled = true;  // To prevent multiple clicks.\n",
              "          quickchartButtonEl.classList.add('colab-df-spinner');\n",
              "          try {\n",
              "            const charts = await google.colab.kernel.invokeFunction(\n",
              "                'suggestCharts', [key], {});\n",
              "          } catch (error) {\n",
              "            console.error('Error during call to suggestCharts:', error);\n",
              "          }\n",
              "          quickchartButtonEl.classList.remove('colab-df-spinner');\n",
              "          quickchartButtonEl.classList.add('colab-df-quickchart-complete');\n",
              "        }\n",
              "        (() => {\n",
              "          let quickchartButtonEl =\n",
              "            document.querySelector('#df-1b27feb7-9f79-4e13-b993-23548c1eaf88 button');\n",
              "          quickchartButtonEl.style.display =\n",
              "            google.colab.kernel.accessAllowed ? 'block' : 'none';\n",
              "        })();\n",
              "      </script>\n",
              "    </div>\n",
              "\n",
              "  <div id=\"id_5b92c133-c434-4493-b973-489f56086816\">\n",
              "    <style>\n",
              "      .colab-df-generate {\n",
              "        background-color: #E8F0FE;\n",
              "        border: none;\n",
              "        border-radius: 50%;\n",
              "        cursor: pointer;\n",
              "        display: none;\n",
              "        fill: #1967D2;\n",
              "        height: 32px;\n",
              "        padding: 0 0 0 0;\n",
              "        width: 32px;\n",
              "      }\n",
              "\n",
              "      .colab-df-generate:hover {\n",
              "        background-color: #E2EBFA;\n",
              "        box-shadow: 0px 1px 2px rgba(60, 64, 67, 0.3), 0px 1px 3px 1px rgba(60, 64, 67, 0.15);\n",
              "        fill: #174EA6;\n",
              "      }\n",
              "\n",
              "      [theme=dark] .colab-df-generate {\n",
              "        background-color: #3B4455;\n",
              "        fill: #D2E3FC;\n",
              "      }\n",
              "\n",
              "      [theme=dark] .colab-df-generate:hover {\n",
              "        background-color: #434B5C;\n",
              "        box-shadow: 0px 1px 3px 1px rgba(0, 0, 0, 0.15);\n",
              "        filter: drop-shadow(0px 1px 2px rgba(0, 0, 0, 0.3));\n",
              "        fill: #FFFFFF;\n",
              "      }\n",
              "    </style>\n",
              "    <button class=\"colab-df-generate\" onclick=\"generateWithVariable('df')\"\n",
              "            title=\"Generate code using this dataframe.\"\n",
              "            style=\"display:none;\">\n",
              "\n",
              "  <svg xmlns=\"http://www.w3.org/2000/svg\" height=\"24px\"viewBox=\"0 0 24 24\"\n",
              "       width=\"24px\">\n",
              "    <path d=\"M7,19H8.4L18.45,9,17,7.55,7,17.6ZM5,21V16.75L18.45,3.32a2,2,0,0,1,2.83,0l1.4,1.43a1.91,1.91,0,0,1,.58,1.4,1.91,1.91,0,0,1-.58,1.4L9.25,21ZM18.45,9,17,7.55Zm-12,3A5.31,5.31,0,0,0,4.9,8.1,5.31,5.31,0,0,0,1,6.5,5.31,5.31,0,0,0,4.9,4.9,5.31,5.31,0,0,0,6.5,1,5.31,5.31,0,0,0,8.1,4.9,5.31,5.31,0,0,0,12,6.5,5.46,5.46,0,0,0,6.5,12Z\"/>\n",
              "  </svg>\n",
              "    </button>\n",
              "    <script>\n",
              "      (() => {\n",
              "      const buttonEl =\n",
              "        document.querySelector('#id_5b92c133-c434-4493-b973-489f56086816 button.colab-df-generate');\n",
              "      buttonEl.style.display =\n",
              "        google.colab.kernel.accessAllowed ? 'block' : 'none';\n",
              "\n",
              "      buttonEl.onclick = () => {\n",
              "        google.colab.notebook.generateWithVariable('df');\n",
              "      }\n",
              "      })();\n",
              "    </script>\n",
              "  </div>\n",
              "\n",
              "    </div>\n",
              "  </div>\n"
            ],
            "application/vnd.google.colaboratory.intrinsic+json": {
              "type": "dataframe",
              "variable_name": "df",
              "summary": "{\n  \"name\": \"df\",\n  \"rows\": 4,\n  \"fields\": [\n    {\n      \"column\": \"text\",\n      \"properties\": {\n        \"dtype\": \"string\",\n        \"num_unique_values\": 4,\n        \"samples\": [\n          \"dswithbappy watch dswithbappy\",\n          \"dswithbappy write comment\",\n          \"people watch dswithbappy\"\n        ],\n        \"semantic_type\": \"\",\n        \"description\": \"\"\n      }\n    },\n    {\n      \"column\": \"output\",\n      \"properties\": {\n        \"dtype\": \"number\",\n        \"std\": 0,\n        \"min\": 0,\n        \"max\": 1,\n        \"num_unique_values\": 2,\n        \"samples\": [\n          0,\n          1\n        ],\n        \"semantic_type\": \"\",\n        \"description\": \"\"\n      }\n    }\n  ]\n}"
            }
          },
          "metadata": {},
          "execution_count": 21
        }
      ]
    },
    {
      "cell_type": "code",
      "source": [
        "from sklearn.feature_extraction.text import TfidfVectorizer\n",
        "tfid= TfidfVectorizer()"
      ],
      "metadata": {
        "id": "q80KCTzIvSKX"
      },
      "execution_count": 22,
      "outputs": []
    },
    {
      "cell_type": "code",
      "source": [
        "arr = tfid.fit_transform(df['text']).toarray()"
      ],
      "metadata": {
        "id": "R-eQmuisvUM4"
      },
      "execution_count": 23,
      "outputs": []
    },
    {
      "cell_type": "code",
      "source": [
        "arr"
      ],
      "metadata": {
        "colab": {
          "base_uri": "https://localhost:8080/"
        },
        "id": "Y9sqsMWYvWHF",
        "outputId": "9f93a175-87d7-4ee3-ab61-a9c0dd8e3a6f"
      },
      "execution_count": 24,
      "outputs": [
        {
          "output_type": "execute_result",
          "data": {
            "text/plain": [
              "array([[0.        , 0.49681612, 0.61366674, 0.61366674, 0.        ],\n",
              "       [0.        , 0.8508161 , 0.        , 0.52546357, 0.        ],\n",
              "       [0.57735027, 0.        , 0.57735027, 0.        , 0.57735027],\n",
              "       [0.61366674, 0.49681612, 0.        , 0.        , 0.61366674]])"
            ]
          },
          "metadata": {},
          "execution_count": 24
        }
      ]
    },
    {
      "cell_type": "code",
      "source": [
        "print(tfid.idf_)"
      ],
      "metadata": {
        "colab": {
          "base_uri": "https://localhost:8080/"
        },
        "id": "ksKWUXG7vXkc",
        "outputId": "426379c6-34fa-4b3a-b6ac-5e4dafee031b"
      },
      "execution_count": 25,
      "outputs": [
        {
          "output_type": "stream",
          "name": "stdout",
          "text": [
            "[1.51082562 1.22314355 1.51082562 1.51082562 1.51082562]\n"
          ]
        }
      ]
    },
    {
      "cell_type": "code",
      "source": [],
      "metadata": {
        "id": "dGP1mcHevZbb"
      },
      "execution_count": null,
      "outputs": []
    }
  ]
}